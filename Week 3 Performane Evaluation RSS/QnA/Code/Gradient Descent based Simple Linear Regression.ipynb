{
 "cells": [
  {
   "cell_type": "code",
   "execution_count": 1,
   "metadata": {
    "collapsed": true,
    "deletable": true,
    "editable": true
   },
   "outputs": [],
   "source": [
    "import csv\n",
    "import numpy as np\n",
    "import scipy as sp\n",
    "import matplotlib\n",
    "from matplotlib import pyplot as plt"
   ]
  },
  {
   "cell_type": "code",
   "execution_count": 3,
   "metadata": {
    "collapsed": true,
    "deletable": true,
    "editable": true
   },
   "outputs": [],
   "source": [
    "#############\n",
    "## DATA IO ##\n",
    "#############\n",
    "\n",
    "def get_data(filepath):\n",
    "\t# Opens the file handler for the dataset file. Using variable 'f' we can access and manipulate our file anywhere in our code\n",
    "\t# after the next code line.\n",
    "\tf = open(filepath,\"r\")\n",
    "\n",
    "\t# Predictors Collection (or your input variable) (which in this case is just the duration of eruption)\n",
    "\tX = []\n",
    "\n",
    "\t# Output Response (or your output variable) (which in this case is the duration after which next eruption will occur.)\n",
    "\tY = []\n",
    "\n",
    "\t# Initializing a reader generator using reader method from csv module. A reader generator takes each line from the file\n",
    "\t# and converts it into list of columns.\n",
    "\treader = csv.reader(f)\n",
    "\n",
    "\t# Using for loop, we are able to read one row at a time.\n",
    "\tfor row in reader:\n",
    "\t\tif row[1]!=\"Duration\":\n",
    "\t\t\tX.append(float(row[1]))\n",
    "\t\t\tY.append(float(row[2]))\n",
    "\n",
    "\t# Close the file once we have succesffuly stored all data into our X and Y variables.\n",
    "\tf.close()\n",
    "\n",
    "\treturn [np.array(X),np.array(Y)]"
   ]
  },
  {
   "cell_type": "code",
   "execution_count": 4,
   "metadata": {
    "collapsed": true,
    "deletable": true,
    "editable": true
   },
   "outputs": [],
   "source": [
    "#####################\n",
    "## RSS Calculation ##\n",
    "#####################\n",
    "\n",
    "def RSS(x, y, beta_0, beta_1):\n",
    "    rss = 0\n",
    "    for i in range(x.shape[0]):\n",
    "        predicted_value = (beta_0 + (beta_1 * x[i]))\n",
    "        actual_value = y[i]\n",
    "        rss = rss + ((predicted_value - actual_value)**2)\n",
    "    return rss"
   ]
  },
  {
   "cell_type": "code",
   "execution_count": 5,
   "metadata": {
    "collapsed": true,
    "deletable": true,
    "editable": true
   },
   "outputs": [],
   "source": [
    "def gradientDescentAlgorithm(x, y, learning_rate):\n",
    "    \n",
    "    print (\"Training Linear Regression Model using Gradient Descent\")\n",
    "    \n",
    "    maximum_iterations = 2500\n",
    "    \n",
    "    # This flag lets the program know wether the gradient descent algorithm has reached it's converged state which means wether \n",
    "    # the algorithm was able to find the local minima (where the slope of RSS wrt your parameters beta_0 and beta_1 is zero)\n",
    "    converge_status = False\n",
    "    \n",
    "    # num_rows stores the number of datapoints in the current dataset provided for training.\n",
    "    num_rows = x.shape[0]\n",
    "\n",
    "    # Initial Value of parameters ((beta_0, beta_1) - for our simple linear regression case)\n",
    "    beta_0 = 0\n",
    "    beta_1 = 0\n",
    "\n",
    "    # Initial Error or RSS(beta_0,beta_1) based on the initial parameter values\n",
    "    error = RSS(x, y, beta_0, beta_1)\n",
    "    print('Initial Value of RSS (Cost Function)=', error);\n",
    "    \n",
    "    # Iterate Loop\n",
    "    num_iter = 0\n",
    "    while not converge_status:\n",
    "        # for each training sample, compute the gradient (d/d_beta j(beta))\n",
    "        gradient_0 = 1.0/num_rows * sum([(beta_0 + beta_1*np.asarray([x[i]]) - y[i]) for i in range(num_rows)]) \n",
    "        gradient_1 = 1.0/num_rows * sum([(beta_0 + beta_1*np.asarray([x[i]]) - y[i])*np.asarray([x[i]]) for i in range(num_rows)])\n",
    "\n",
    "        # Computation of new parameters according to the current gradient.\n",
    "        temp0 = beta_0 - learning_rate * gradient_0\n",
    "        temp1 = beta_1 - learning_rate * gradient_1\n",
    "    \n",
    "        # Simultaneous Update of Parameters Beta_0 and Beta_1.\n",
    "        beta_0 = temp0\n",
    "        beta_1 = temp1\n",
    "\n",
    "        \n",
    "        current_error = RSS(x, y, beta_0, beta_1)\n",
    "        \n",
    "        if num_iter % 250 == 0:\n",
    "            print ('Current Value of RSS (Cost Function) based on updated values of beta_0 and beta_1 = ', current_error)\n",
    "            \n",
    "        error = current_error   # update error \n",
    "        num_iter = num_iter + 1  # update iter\n",
    "    \n",
    "        if num_iter == maximum_iterations:\n",
    "            print (\"Training Interrupted as Maximum number of iterations were crossed.\\n\\n\")\n",
    "            converge_status = True\n",
    "\n",
    "    return [beta_0[0], beta_1[0]]"
   ]
  },
  {
   "cell_type": "code",
   "execution_count": 6,
   "metadata": {
    "collapsed": true,
    "deletable": true,
    "editable": true
   },
   "outputs": [],
   "source": [
    "# Method to predict response variable Y (in this case interval before the next erruption) for new values of X (in this case\n",
    "# duration of eruption) using the estimated coefficientsself.\n",
    "# This method can predict Response variable (Y) for single as well as multiple values of X. If only a single numerical Value\n",
    "# input variable (X) which in this case is Duration is passed. It will return the prediction for only that single numerical\n",
    "# value. If a collection of different values for input variable (list) is passed, it will return a list of predictions\n",
    "# for each input value.\n",
    "# \"if\" statement on line number 72 takes care of understanding if the input value is singular or a list.\n",
    "def predict(coef,X):\n",
    "\tbeta_0 = coef[0]\n",
    "\tbeta_1 = coef[1]\n",
    "\n",
    "\tfy = []\n",
    "\tif type(X) == list:\n",
    "\t\tfor x in X:\n",
    "\t\t\tfy.append(beta_0 + (beta_1 * x))\n",
    "\t\treturn fy\n",
    "\n",
    "\t# Our Regression Model defined using the coefficients from slr function\n",
    "\tY = beta_0 + (beta_1 * X)\n",
    "\n",
    "\treturn Y"
   ]
  },
  {
   "cell_type": "code",
   "execution_count": 7,
   "metadata": {
    "collapsed": true,
    "deletable": true,
    "editable": true
   },
   "outputs": [],
   "source": [
    "# Visualize the data using Scatter plot of matplotlib library. A scatter plot is a plot between two continuous variables.\n",
    "# and it helps us in determining the relationship between those two continuous variables.\n",
    "# For more information on working of scatter plot function of matplotlib - you can visit the following url:\n",
    "# https://matplotlib.org/api/_as_gen/matplotlib.pyplot.scatter.html\n",
    "def show_scatter_plot(X,Y,coefficients = None):\n",
    "\tplt.scatter(X,Y,s = 2)\n",
    "\tplt.xlabel(\"Duration of Eruption (in minutes)\")\n",
    "\tplt.ylabel(\"Time duration before the next eruption (in minutes)\")\n",
    "\tif coefficients:\n",
    "\t\tx = sp.linspace(1,X[-1], 2000)\n",
    "\t\tplt.plot(x, predict(coefficients,x), linewidth=2)\n",
    "\tplt.show()"
   ]
  },
  {
   "cell_type": "code",
   "execution_count": null,
   "metadata": {
    "collapsed": false,
    "deletable": true,
    "editable": true
   },
   "outputs": [
    {
     "name": "stdout",
     "output_type": "stream",
     "text": [
      "Training Linear Regression Model using Gradient Descent\n",
      "Initial Value of RSS (Cost Function)= 1417266.0\n",
      "Current Value of RSS (Cost Function) based on updated values of beta_0 and beta_1 =  [ 295688.25908061]\n",
      "Current Value of RSS (Cost Function) based on updated values of beta_0 and beta_1 =  [ 9671.15585178]\n",
      "Current Value of RSS (Cost Function) based on updated values of beta_0 and beta_1 =  [ 9445.82799798]\n",
      "Current Value of RSS (Cost Function) based on updated values of beta_0 and beta_1 =  [ 9443.4132054]\n",
      "Current Value of RSS (Cost Function) based on updated values of beta_0 and beta_1 =  [ 9443.38732656]\n",
      "Current Value of RSS (Cost Function) based on updated values of beta_0 and beta_1 =  [ 9443.38704922]\n",
      "Current Value of RSS (Cost Function) based on updated values of beta_0 and beta_1 =  [ 9443.38704625]\n",
      "Current Value of RSS (Cost Function) based on updated values of beta_0 and beta_1 =  [ 9443.38704622]\n",
      "Current Value of RSS (Cost Function) based on updated values of beta_0 and beta_1 =  [ 9443.38704622]\n",
      "Current Value of RSS (Cost Function) based on updated values of beta_0 and beta_1 =  [ 9443.38704622]\n",
      "Training Interrupted as Maximum number of iterations were crossed.\n",
      "\n",
      "\n"
     ]
    },
    {
     "data": {
      "image/png": "[encoded data removed]",
      "text/plain": [
       "<matplotlib.figure.Figure at 0x185abb92860>"
      ]
     },
     "metadata": {},
     "output_type": "display_data"
    },
    {
     "name": "stdout",
     "output_type": "stream",
     "text": [
      "Final Values for Beta_0 and Beta_1: 33.4743970187 10.7296413962\n"
     ]
    }
   ],
   "source": [
    "X,Y = get_data(\"../Datasets/geyser.csv\")\n",
    "# show_scatter_plot(X,Y)\n",
    "\n",
    "################################################\n",
    "## Model Training (or coefficient estimation) ##\n",
    "################################################\n",
    "# Using our gradient descent function we estimate coefficients of our regression line. The gradient descent function returns a list of \n",
    "# coefficients\n",
    "\n",
    "coefficients = gradientDescentAlgorithm(X,Y,0.1)\n",
    "show_scatter_plot(X,Y,coefficients)\n",
    "\n",
    "########################\n",
    "## Making Predictions ##\n",
    "########################\n",
    "\n",
    "# Using our predict function and the coefficients given by our slr function we can now predict the time it will take\n",
    "# for the next eruption.\n",
    "print (\"Final Values for Beta_0 and Beta_1:\",coefficients[0],coefficients[1])\n",
    "last_eruption_duration = float(input(\"Duration of the last eruption (in minutes):\"))\n",
    "print (\"Time it will take for the next eruption to occur (in minutes):\",predict(coefficients,last_eruption_duration))"
   ]
  },
  {
   "cell_type": "code",
   "execution_count": null,
   "metadata": {
    "collapsed": true,
    "deletable": true,
    "editable": true
   },
   "outputs": [],
   "source": [
    "############################\n",
    "## Performance Evaluation ##\n",
    "############################\n",
    "\n",
    "print (\"\\n\\nAccuracy Metrics of the model\\n-------------------------------------\")\n",
    "\n",
    "# Calculation of RSE\n",
    "RSS = 0\n",
    "for idx in range(0,len(X)):\n",
    "\tactual_y = Y[idx]\n",
    "\tpredicted_y = predict(coefficients,X[idx])\n",
    "\tRSS = RSS + ((actual_y - predicted_y)**2)\n",
    "RSE = np.sqrt((1/float(len(X)-2))*RSS)\n",
    "\n",
    "print (\"Residual Standard Error:\",RSE)\n",
    "print (\"% Residual Standard Error (over average Interval):\", (RSE/np.mean(Y))*100)\n",
    "\n",
    "\n",
    "# Calculation of R_Squared\n",
    "TSS = 0\n",
    "for idx in range(0,len(X)):\n",
    "\tactual_y = Y[idx]\n",
    "\tTSS = TSS + ((actual_y - np.mean(Y))**2)\n",
    "R_Squared = ((TSS) - (RSS)) / (TSS)\n",
    "\n",
    "print (\"\\nR-Squared Value:\",R_Squared)"
   ]
  },
  {
   "cell_type": "code",
   "execution_count": null,
   "metadata": {
    "collapsed": true,
    "deletable": true,
    "editable": true
   },
   "outputs": [],
   "source": []
  },
  {
   "cell_type": "code",
   "execution_count": null,
   "metadata": {
    "collapsed": true
   },
   "outputs": [],
   "source": []
  }
 ],
 "metadata": {
  "kernelspec": {
   "display_name": "Python 3",
   "language": "python",
   "name": "python3"
  },
  "language_info": {
   "codemirror_mode": {
    "name": "ipython",
    "version": 3
   },
   "file_extension": ".py",
   "mimetype": "text/x-python",
   "name": "python",
   "nbconvert_exporter": "python",
   "pygments_lexer": "ipython3",
   "version": "3.5.2"
  }
 },
 "nbformat": 4,
 "nbformat_minor": 2
}
