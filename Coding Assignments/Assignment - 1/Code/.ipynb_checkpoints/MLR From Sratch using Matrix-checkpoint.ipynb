{
 "cells": [
  {
   "cell_type": "code",
   "execution_count": 1,
   "metadata": {
    "collapsed": false
   },
   "outputs": [],
   "source": [
    "import csv\n",
    "import numpy as np\n",
    "import scipy as sp\n",
    "import matplotlib\n",
    "import matplotlib.pyplot as plt\n",
    "%matplotlib inline\n",
    "\n",
    "from mpl_toolkits.mplot3d import Axes3D\n",
    "import pandas as pd\n"
   ]
  },
  {
   "cell_type": "markdown",
   "metadata": {},
   "source": [
    "Y=β0+β1x1+β1x2+…+βnxn\n",
    "\n",
    "Now we can convert this eqaution to matrix form.\n",
    "\n",
    "\n",
    "Y=βTX\n",
    "\n",
    "<b>Read data</b>"
   ]
  },
  {
   "cell_type": "code",
   "execution_count": 2,
   "metadata": {
    "collapsed": true
   },
   "outputs": [],
   "source": [
    "\n",
    "data = pd.read_csv(\"../Datasets/hardware.csv\",header=None)"
   ]
  },
  {
   "cell_type": "code",
   "execution_count": 3,
   "metadata": {
    "collapsed": false
   },
   "outputs": [
    {
     "data": {
      "text/html": [
       "<div>\n",
       "<style>\n",
       "    .dataframe thead tr:only-child th {\n",
       "        text-align: right;\n",
       "    }\n",
       "\n",
       "    .dataframe thead th {\n",
       "        text-align: left;\n",
       "    }\n",
       "\n",
       "    .dataframe tbody tr th {\n",
       "        vertical-align: top;\n",
       "    }\n",
       "</style>\n",
       "<table border=\"1\" class=\"dataframe\">\n",
       "  <thead>\n",
       "    <tr style=\"text-align: right;\">\n",
       "      <th></th>\n",
       "      <th>0</th>\n",
       "      <th>1</th>\n",
       "      <th>2</th>\n",
       "      <th>3</th>\n",
       "      <th>4</th>\n",
       "      <th>5</th>\n",
       "      <th>6</th>\n",
       "      <th>7</th>\n",
       "      <th>8</th>\n",
       "      <th>9</th>\n",
       "    </tr>\n",
       "  </thead>\n",
       "  <tbody>\n",
       "    <tr>\n",
       "      <th>0</th>\n",
       "      <td>adviser</td>\n",
       "      <td>32/60</td>\n",
       "      <td>125</td>\n",
       "      <td>256</td>\n",
       "      <td>6000</td>\n",
       "      <td>256</td>\n",
       "      <td>16</td>\n",
       "      <td>128</td>\n",
       "      <td>198</td>\n",
       "      <td>199</td>\n",
       "    </tr>\n",
       "    <tr>\n",
       "      <th>1</th>\n",
       "      <td>amdahl</td>\n",
       "      <td>470v/7</td>\n",
       "      <td>29</td>\n",
       "      <td>8000</td>\n",
       "      <td>32000</td>\n",
       "      <td>32</td>\n",
       "      <td>8</td>\n",
       "      <td>32</td>\n",
       "      <td>269</td>\n",
       "      <td>253</td>\n",
       "    </tr>\n",
       "    <tr>\n",
       "      <th>2</th>\n",
       "      <td>amdahl</td>\n",
       "      <td>470v/7a</td>\n",
       "      <td>29</td>\n",
       "      <td>8000</td>\n",
       "      <td>32000</td>\n",
       "      <td>32</td>\n",
       "      <td>8</td>\n",
       "      <td>32</td>\n",
       "      <td>220</td>\n",
       "      <td>253</td>\n",
       "    </tr>\n",
       "    <tr>\n",
       "      <th>3</th>\n",
       "      <td>amdahl</td>\n",
       "      <td>470v/7b</td>\n",
       "      <td>29</td>\n",
       "      <td>8000</td>\n",
       "      <td>32000</td>\n",
       "      <td>32</td>\n",
       "      <td>8</td>\n",
       "      <td>32</td>\n",
       "      <td>172</td>\n",
       "      <td>253</td>\n",
       "    </tr>\n",
       "    <tr>\n",
       "      <th>4</th>\n",
       "      <td>amdahl</td>\n",
       "      <td>470v/7c</td>\n",
       "      <td>29</td>\n",
       "      <td>8000</td>\n",
       "      <td>16000</td>\n",
       "      <td>32</td>\n",
       "      <td>8</td>\n",
       "      <td>16</td>\n",
       "      <td>132</td>\n",
       "      <td>132</td>\n",
       "    </tr>\n",
       "  </tbody>\n",
       "</table>\n",
       "</div>"
      ],
      "text/plain": [
       "         0        1    2     3      4    5   6    7    8    9\n",
       "0  adviser    32/60  125   256   6000  256  16  128  198  199\n",
       "1   amdahl   470v/7   29  8000  32000   32   8   32  269  253\n",
       "2   amdahl  470v/7a   29  8000  32000   32   8   32  220  253\n",
       "3   amdahl  470v/7b   29  8000  32000   32   8   32  172  253\n",
       "4   amdahl  470v/7c   29  8000  16000   32   8   16  132  132"
      ]
     },
     "execution_count": 3,
     "metadata": {},
     "output_type": "execute_result"
    }
   ],
   "source": [
    "data.head()"
   ]
  },
  {
   "cell_type": "code",
   "execution_count": 4,
   "metadata": {
    "collapsed": false
   },
   "outputs": [
    {
     "data": {
      "text/plain": [
       "(209, 10)"
      ]
     },
     "execution_count": 4,
     "metadata": {},
     "output_type": "execute_result"
    }
   ],
   "source": [
    "data.shape"
   ]
  },
  {
   "cell_type": "code",
   "execution_count": 27,
   "metadata": {
    "collapsed": false
   },
   "outputs": [
    {
     "data": {
      "text/plain": [
       "array([  256,  8000,  8000,  8000,  8000,  8000, 16000, 16000, 16000,\n",
       "       32000,  1000,   512,  2000,  4000,    64,   512,   524,   512,\n",
       "        1000,  5000,  1500,  3100,  2300,  3100,   128,   512,   256,\n",
       "         256,   512,   256,  1310,  1310,  2620,  2620,  5240,  5240,\n",
       "         500,  1000,  2000,  1000,  1000,  2000,  2000,  2000,  1000,\n",
       "        1000,   512,  1000,   512,   512,   384,   256,  1000,  1000,\n",
       "        1000,  1000,  1000,   256,   256,   256,   256,   256,   512,\n",
       "        2000,  2000,  2000,   256,   256,  1000,  2000,  2000,  3000,\n",
       "         256,   768,   768,   768,   768,   384,   192,   768,  1000,\n",
       "        1000,  1000,  1000,  1000,  2000,  2000,  2000,  2000,  2000,\n",
       "        2000,  2000,  2000,  4000,  4000, 16000, 16000,  8000,  8000,\n",
       "          96,  1000,   512,   512,   768,   768,  2000,  4000,  1000,\n",
       "         512,  1000,  1000,  2000,  2000,  2000,  2000,  2000,  2000,\n",
       "        1000,  2000,  2000,  4000,  4000,   768,   768,   768,  2000,\n",
       "        2000,  2000,  2000,  2000,  8000,  1000,  1000,  1000,  2000,\n",
       "        2000,  2000,   512,  2000,  2000,  2000,  2000,  2000,  4000,\n",
       "        4000,  2000,  4000,  4000,  4000,  2000,  8000,  8000,  8000,\n",
       "       16000,  4000,  8000, 16000,  1000,  1000,  1000,  2000,  2000,\n",
       "        4000,  4000,  4000,  4000,  4000,  8000,  8000,  4000,  1000,\n",
       "        1000,  2000,   512,   512,  1000,   512,   512,  1000,  1000,\n",
       "        2000,   512,   512,  2000,  2000,  2000,  4000,  4000,  4000,\n",
       "        8000,  8000,  8000,  8000,  2000,  2000,  2000,  2000,  4000,\n",
       "        8000,  8000,   262,   512,   262,   512,  1000,  1000,  2000,\n",
       "         512,  1000], dtype=int64)"
      ]
     },
     "execution_count": 27,
     "metadata": {},
     "output_type": "execute_result"
    }
   ],
   "source": [
    "data[3].values"
   ]
  },
  {
   "cell_type": "code",
   "execution_count": 28,
   "metadata": {
    "collapsed": false,
    "scrolled": false
   },
   "outputs": [
    {
     "data": {
      "image/png": "[encoded data removed]",
      "text/plain": [
       "<matplotlib.figure.Figure at 0x2291d9bcef0>"
      ]
     },
     "metadata": {},
     "output_type": "display_data"
    }
   ],
   "source": [
    "a = data[2].values\n",
    "b = data[3].values\n",
    "c = data[4].values\n",
    "d = data[5].values\n",
    "e = data[6].values\n",
    "f = data[7].values\n",
    "\n",
    "# Ploting the scores as scatter plot\n",
    "fig = plt.figure()\n",
    "ax = Axes3D(fig)\n",
    "ax.scatter(a, b, c)\n",
    "plt.show()"
   ]
  },
  {
   "cell_type": "markdown",
   "metadata": {},
   "source": [
    "Now we will generate our X, Y and β.\n",
    "\n",
    "BY Considering in mind below:\n",
    "hβ(x)=βTx"
   ]
  },
  {
   "cell_type": "code",
   "execution_count": 29,
   "metadata": {
    "collapsed": false
   },
   "outputs": [
    {
     "name": "stdout",
     "output_type": "stream",
     "text": [
      "first way 209\n",
      "second way 209\n"
     ]
    }
   ],
   "source": [
    "# no.of rows\n",
    "m = len(data[2])\n",
    "print(\"first way\",m)\n",
    "\n",
    "# or \n",
    "\n",
    "m = data.shape[0]\n",
    "print(\"second way\",m)"
   ]
  },
  {
   "cell_type": "markdown",
   "metadata": {},
   "source": [
    "so to solve it with matrix we have to assume x0 with ones "
   ]
  },
  {
   "cell_type": "code",
   "execution_count": 30,
   "metadata": {
    "collapsed": false
   },
   "outputs": [
    {
     "name": "stdout",
     "output_type": "stream",
     "text": [
      "[ 1.  1.  1.  1.  1.  1.  1.  1.  1.  1.  1.  1.  1.  1.  1.  1.  1.  1.\n",
      "  1.  1.  1.  1.  1.  1.  1.  1.  1.  1.  1.  1.  1.  1.  1.  1.  1.  1.\n",
      "  1.  1.  1.  1.  1.  1.  1.  1.  1.  1.  1.  1.  1.  1.  1.  1.  1.  1.\n",
      "  1.  1.  1.  1.  1.  1.  1.  1.  1.  1.  1.  1.  1.  1.  1.  1.  1.  1.\n",
      "  1.  1.  1.  1.  1.  1.  1.  1.  1.  1.  1.  1.  1.  1.  1.  1.  1.  1.\n",
      "  1.  1.  1.  1.  1.  1.  1.  1.  1.  1.  1.  1.  1.  1.  1.  1.  1.  1.\n",
      "  1.  1.  1.  1.  1.  1.  1.  1.  1.  1.  1.  1.  1.  1.  1.  1.  1.  1.\n",
      "  1.  1.  1.  1.  1.  1.  1.  1.  1.  1.  1.  1.  1.  1.  1.  1.  1.  1.\n",
      "  1.  1.  1.  1.  1.  1.  1.  1.  1.  1.  1.  1.  1.  1.  1.  1.  1.  1.\n",
      "  1.  1.  1.  1.  1.  1.  1.  1.  1.  1.  1.  1.  1.  1.  1.  1.  1.  1.\n",
      "  1.  1.  1.  1.  1.  1.  1.  1.  1.  1.  1.  1.  1.  1.  1.  1.  1.  1.\n",
      "  1.  1.  1.  1.  1.  1.  1.  1.  1.  1.  1.]\n"
     ]
    }
   ],
   "source": [
    "x0 = np.ones(m)\n",
    "\n",
    "print(x0)"
   ]
  },
  {
   "cell_type": "code",
   "execution_count": 31,
   "metadata": {
    "collapsed": false
   },
   "outputs": [
    {
     "name": "stdout",
     "output_type": "stream",
     "text": [
      "(209, 7)\n"
     ]
    }
   ],
   "source": [
    "X = np.array( [x0,a,b,c,d,e,f] ).T\n",
    "\n",
    "print(X.shape)"
   ]
  },
  {
   "cell_type": "code",
   "execution_count": 32,
   "metadata": {
    "collapsed": false
   },
   "outputs": [
    {
     "name": "stdout",
     "output_type": "stream",
     "text": [
      "[0 0 0 0 0 0 0]\n",
      "(7,)\n"
     ]
    }
   ],
   "source": [
    "# Initial Coefficients\n",
    "\n",
    "B  = np.array( [0,0,0,0,0,0,0] )\n",
    "print(B)\n",
    "print(B.shape)"
   ]
  },
  {
   "cell_type": "code",
   "execution_count": 33,
   "metadata": {
    "collapsed": true
   },
   "outputs": [],
   "source": [
    "alpha = 0.000000001"
   ]
  },
  {
   "cell_type": "code",
   "execution_count": 34,
   "metadata": {
    "collapsed": false
   },
   "outputs": [
    {
     "name": "stdout",
     "output_type": "stream",
     "text": [
      "(209,)\n"
     ]
    }
   ],
   "source": [
    "Y = np.array( data[8].values )\n",
    "print(Y.shape)"
   ]
  },
  {
   "cell_type": "markdown",
   "metadata": {},
   "source": [
    "### We’ll define our cost function.\n",
    "\n",
    "J(β)=12m∑i=1m(hβ(x(i))−y(i))2\n",
    "\n",
    "By minimizing this cost function, we can get find β. We use Gradient Descent for this."
   ]
  },
  {
   "cell_type": "code",
   "execution_count": 35,
   "metadata": {
    "collapsed": true
   },
   "outputs": [],
   "source": [
    "def cost(X,Y,B):\n",
    "    m = len(Y) \n",
    "    s = np.sum( (X.dot(B) - Y)**2 )\n",
    "    return (s/(2*m))\n",
    "\n"
   ]
  },
  {
   "cell_type": "code",
   "execution_count": 36,
   "metadata": {
    "collapsed": false
   },
   "outputs": [
    {
     "name": "stdout",
     "output_type": "stream",
     "text": [
      "18449.3851675\n"
     ]
    }
   ],
   "source": [
    "# initial cost\n",
    "\n",
    "inital_cost = cost(X, Y, B)\n",
    "print(inital_cost)\n"
   ]
  },
  {
   "cell_type": "markdown",
   "metadata": {},
   "source": [
    "As you can see our initial cost is huge. Now we’ll reduce our cost prediocally using Gradient Descent.\n",
    "\n",
    "Hypothesis: hβ(x)=βTx\n",
    "\n",
    "Loss: (hβ(x)−y)\n",
    "\n",
    "Gradient: (hβ(x)−y)xj\n",
    "\n",
    "Gradient Descent Updation: βj:=βj−α(hβ(x)−y)xj)"
   ]
  },
  {
   "cell_type": "code",
   "execution_count": 37,
   "metadata": {
    "collapsed": true
   },
   "outputs": [],
   "source": [
    "def gradient_descent(B,X,Y,alpha, iterations):\n",
    "    cost_histroy = [0] * iterations\n",
    "    \n",
    "    m = len(Y)\n",
    "    \n",
    "    for iteration in range(iterations):\n",
    "        \n",
    "        h = X.dot(B)\n",
    "        loss = h - Y\n",
    "        \n",
    "        gradient = X.T.dot(loss)/m\n",
    "        \n",
    "        B = B - alpha * gradient\n",
    "        \n",
    "        c = cost(X,Y,B)\n",
    "        \n",
    "        \n",
    "        cost_histroy[iteration] = c\n",
    "    \n",
    "    \n",
    "    return B, cost_histroy\n",
    "    "
   ]
  },
  {
   "cell_type": "markdown",
   "metadata": {},
   "source": [
    "Now let computer B"
   ]
  },
  {
   "cell_type": "code",
   "execution_count": 38,
   "metadata": {
    "collapsed": false
   },
   "outputs": [
    {
     "name": "stdout",
     "output_type": "stream",
     "text": [
      "[ -7.82980455e-06  -1.74605779e-03   1.33616163e-02   7.09327320e-03\n",
      "   5.29887441e-04   5.13287727e-05   3.54067034e-04]\n",
      "2946.71447244\n"
     ]
    }
   ],
   "source": [
    "alpha = 0.0000000001\n",
    "newBeta , Costhistory = gradient_descent(B,X,Y,alpha,5000)\n",
    "\n",
    "print(newBeta)\n",
    "print(Costhistory[-1])"
   ]
  },
  {
   "cell_type": "code",
   "execution_count": 24,
   "metadata": {
    "collapsed": false
   },
   "outputs": [
    {
     "name": "stdout",
     "output_type": "stream",
     "text": [
      "76.001398243\n",
      "0.775617990684\n"
     ]
    }
   ],
   "source": [
    "# Model Evaluation - RMSE\n",
    "def rmse(Y, Y_pred):\n",
    "    rmse = np.sqrt(sum((Y - Y_pred) ** 2) / len(Y))\n",
    "    return rmse\n",
    "\n",
    "# Model Evaluation - R2 Score\n",
    "def r2_score(Y, Y_pred):\n",
    "    mean_y = np.mean(Y)\n",
    "    ss_tot = sum((Y - mean_y) ** 2)\n",
    "    ss_res = sum((Y - Y_pred) ** 2)\n",
    "    r2 = 1 - (ss_res / ss_tot)\n",
    "    return r2\n",
    "\n",
    "Y_pred = X.dot(newBeta)\n",
    "\n",
    "print(rmse(Y, Y_pred))\n",
    "print(r2_score(Y, Y_pred))"
   ]
  },
  {
   "cell_type": "markdown",
   "metadata": {},
   "source": [
    "With sklearn"
   ]
  },
  {
   "cell_type": "code",
   "execution_count": 25,
   "metadata": {
    "collapsed": false
   },
   "outputs": [
    {
     "name": "stdout",
     "output_type": "stream",
     "text": [
      "58.9753056424\n",
      "0.864890692277\n"
     ]
    }
   ],
   "source": [
    "from sklearn.linear_model import LinearRegression\n",
    "from sklearn.metrics import mean_squared_error\n",
    "\n",
    "# X and Y Values\n",
    "X = np.array([data[2], data[3],data[4],data[5],data[6],data[7]]).T\n",
    "Y = np.array(data[8])\n",
    "\n",
    "# Model Intialization\n",
    "reg = LinearRegression()\n",
    "# Data Fitting\n",
    "reg = reg.fit(X, Y)\n",
    "# Y Prediction\n",
    "Y_pred = reg.predict(X)\n",
    "\n",
    "# Model Evaluation\n",
    "rmse = np.sqrt(mean_squared_error(Y, Y_pred))\n",
    "r2 = reg.score(X, Y)\n",
    "\n",
    "print(rmse)\n",
    "print(r2)"
   ]
  },
  {
   "cell_type": "code",
   "execution_count": null,
   "metadata": {
    "collapsed": true
   },
   "outputs": [],
   "source": []
  }
 ],
 "metadata": {
  "kernelspec": {
   "display_name": "Python 3",
   "language": "python",
   "name": "python3"
  },
  "language_info": {
   "codemirror_mode": {
    "name": "ipython",
    "version": 3
   },
   "file_extension": ".py",
   "mimetype": "text/x-python",
   "name": "python",
   "nbconvert_exporter": "python",
   "pygments_lexer": "ipython3",
   "version": "3.5.2"
  }
 },
 "nbformat": 4,
 "nbformat_minor": 2
}
