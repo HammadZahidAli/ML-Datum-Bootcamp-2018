{
 "cells": [
  {
   "cell_type": "code",
   "execution_count": null,
   "metadata": {
    "scrolled": true
   },
   "outputs": [],
   "source": [
    "import csv\n",
    "import numpy as np\n",
    "import pandas as pd\n",
    "from sklearn.linear_model import LinearRegression\n",
    "from sklearn.metrics import mean_absolute_error, mean_squared_error, r2_score"
   ]
  },
  {
   "cell_type": "code",
   "execution_count": null,
   "metadata": {
    "code_folding": [],
    "scrolled": true
   },
   "outputs": [],
   "source": [
    "#############\n",
    "## Data IO ##\n",
    "#############\n",
    "\n",
    "# Difference between our earlier method of data i/o using csv library and this method using pandas library\n",
    "\n",
    "def get_data(filepath):\n",
    "    data = pd.read_csv(filepath,header=None)\n",
    "    data = data.iloc[:,2:9]\n",
    "    return [data.iloc[:,:-1],data.iloc[:,-1]]    "
   ]
  },
  {
   "cell_type": "code",
   "execution_count": null,
   "metadata": {
    "scrolled": true
   },
   "outputs": [],
   "source": [
    "def summarize_our_model(mlr):\n",
    "    # Coefficients of multiple linear regression model\n",
    "    print(\"Coefficients (or Parameters) for each input variable\\n\",mlr.coef_)\n",
    "    print(\"\\nIntercept (or beta_zero) of our model\\n\",mlr.intercept_)\n",
    "\n",
    "    final_multiple_linear_regression_equation = \"\"\n",
    "    input_variable = 1\n",
    "    for coefficient in mlr.coef_:\n",
    "        final_multiple_linear_regression_equation = final_multiple_linear_regression_equation + \"(\" + str(round(coefficient,6)) + \")\" + \"*X\"+str(input_variable) + \" + \"\n",
    "        input_variable = input_variable + 1\n",
    "\n",
    "    print(\"\\n\\n\\nOur MLR Model Equation:\\n\" + \"Y = \" + final_multiple_linear_regression_equation[:-3])\n",
    "\n",
    "    # Total error of the fit\n",
    "    print (\"\\n\\n\\nMean Absolute Error:\",mean_absolute_error(Y,mlr.predict(X)))\n",
    "    print (\"\\nMean Squared Error:\",mean_squared_error(Y,mlr.predict(X)))\n",
    "    print (\"\\nR^2 Value:\",r2_score(Y,mlr.predict(X)))"
   ]
  },
  {
   "cell_type": "code",
   "execution_count": null,
   "metadata": {
    "scrolled": true
   },
   "outputs": [],
   "source": [
    "X,Y = get_data(\"../Datasets/hardware.csv\")\n",
    "\n",
    "# # Initializing the multiple linear Regression model\n",
    "mlr = LinearRegression(normalize = True)\n",
    "# Fitting (or Training) the multiple linear regression model\n",
    "mlr.fit(X,Y)\n",
    "\n",
    "summarize_our_model(mlr)"
   ]
  },
  {
   "cell_type": "code",
   "execution_count": null,
   "metadata": {
    "scrolled": true
   },
   "outputs": [],
   "source": []
  }
 ],
 "metadata": {
  "kernelspec": {
   "display_name": "Python 3",
   "language": "python",
   "name": "python3"
  },
  "language_info": {
   "codemirror_mode": {
    "name": "ipython",
    "version": 3
   },
   "file_extension": ".py",
   "mimetype": "text/x-python",
   "name": "python",
   "nbconvert_exporter": "python",
   "pygments_lexer": "ipython3",
   "version": "3.6.5"
  }
 },
 "nbformat": 4,
 "nbformat_minor": 2
}
