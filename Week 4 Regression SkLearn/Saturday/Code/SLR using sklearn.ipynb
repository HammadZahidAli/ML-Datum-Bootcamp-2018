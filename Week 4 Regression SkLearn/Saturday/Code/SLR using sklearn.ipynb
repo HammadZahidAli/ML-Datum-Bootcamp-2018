{
 "cells": [
  {
   "cell_type": "code",
   "execution_count": null,
   "metadata": {},
   "outputs": [],
   "source": [
    "import csv\n",
    "import numpy as np\n",
    "from sklearn.linear_model import LinearRegression\n",
    "from sklearn.metrics import mean_absolute_error, mean_squared_error, r2_score"
   ]
  },
  {
   "cell_type": "code",
   "execution_count": null,
   "metadata": {},
   "outputs": [],
   "source": [
    "#############\n",
    "## Data IO ##\n",
    "#############\n",
    "\n",
    "def get_data(filepath):\n",
    "\t# Opens the file handler for the dataset file. Using variable 'f' we can access and manipulate our file anywhere in our code\n",
    "\t# after the next code line.\n",
    "\tf = open(filepath,\"r\")\n",
    "\n",
    "\t# Predictors Collection (or your input variable) (which in this case is just the duration of eruption)\n",
    "\tX = []\n",
    "\n",
    "\t# Output Response (or your output variable) (which in this case is the duration after which next eruption will occur.)\n",
    "\tY = []\n",
    "\n",
    "\t# Initializing a reader generator using reader method from csv module. A reader generator takes each line from the file\n",
    "\t# and converts it into list of columns.\n",
    "\treader = csv.reader(f)\n",
    "\n",
    "\t# Using for loop, we are able to read one row at a time.\n",
    "\tfor row in reader:\n",
    "\t\tif row[1]!=\"Duration\":\n",
    "\t\t\tX.append(float(row[1]))\n",
    "\t\t\tY.append(float(row[2]))\n",
    "\n",
    "\t# Close the file once we have succesffuly stored all data into our X and Y variables.\n",
    "\tf.close()\n",
    "\n",
    "\treturn [X,Y]"
   ]
  },
  {
   "cell_type": "code",
   "execution_count": 22,
   "metadata": {},
   "outputs": [],
   "source": [
    "X,Y = get_data(\"../Datasets/geyser.csv\")\n",
    "\n",
    "# Reshaping and formatting of data\n",
    "X = np.array(X).reshape(len(X),1)\n",
    "Y = np.array(Y)\n",
    "\n",
    "# Initializing the simple linear Regression model\n",
    "slr = LinearRegression(normalize = True)\n",
    "# Fitting (or Training) the simple linear regression model\n",
    "slr.fit(X,Y)\n",
    "\n",
    "print(\"Coefficient(beta_one): \",slr.coef_)\n",
    "print(\"(beta_zero): \",slr.intercept_)\n",
    "\n",
    "# Total error of the fit\n",
    "print (mean_absolute_error(Y,slr.predict(X)))\n",
    "print (mean_squared_error(Y,slr.predict(X)))\n",
    "print (r2_score(Y,slr.predict(X)))\n",
    "\n",
    "print (slr.predict(3.4))"
   ]
  },
  {
   "cell_type": "code",
   "execution_count": null,
   "metadata": {},
   "outputs": [],
   "source": []
  }
 ],
 "metadata": {
  "kernelspec": {
   "display_name": "Python 3",
   "language": "python",
   "name": "python3"
  },
  "language_info": {
   "codemirror_mode": {
    "name": "ipython",
    "version": 3
   },
   "file_extension": ".py",
   "mimetype": "text/x-python",
   "name": "python",
   "nbconvert_exporter": "python",
   "pygments_lexer": "ipython3",
   "version": "3.6.5"
  }
 },
 "nbformat": 4,
 "nbformat_minor": 2
}
